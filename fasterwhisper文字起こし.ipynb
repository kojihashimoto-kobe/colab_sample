{
  "nbformat": 4,
  "nbformat_minor": 0,
  "metadata": {
    "colab": {
      "provenance": [],
      "gpuType": "T4",
      "authorship_tag": "ABX9TyPWikEwA2eIEuEgOCI1f6gr",
      "include_colab_link": true
    },
    "kernelspec": {
      "name": "python3",
      "display_name": "Python 3"
    },
    "language_info": {
      "name": "python"
    },
    "accelerator": "GPU"
  },
  "cells": [
    {
      "cell_type": "markdown",
      "metadata": {
        "id": "view-in-github",
        "colab_type": "text"
      },
      "source": [
        "<a href=\"https://colab.research.google.com/github/kojihashimoto-kobe/colab_sample/blob/main/fasterwhisper%E6%96%87%E5%AD%97%E8%B5%B7%E3%81%93%E3%81%97.ipynb\" target=\"_parent\"><img src=\"https://colab.research.google.com/assets/colab-badge.svg\" alt=\"Open In Colab\"/></a>"
      ]
    },
    {
      "cell_type": "code",
      "execution_count": 7,
      "metadata": {
        "colab": {
          "base_uri": "https://localhost:8080/",
          "height": 814
        },
        "id": "mr12YMEiPXrw",
        "outputId": "0978b817-eaf2-4ffb-bd28-56359619e29e"
      },
      "outputs": [
        {
          "output_type": "stream",
          "name": "stdout",
          "text": [
            "Looking in indexes: https://pypi.org/simple, https://us-python.pkg.dev/colab-wheels/public/simple/\n",
            "Collecting faster-whisper@ https://github.com/nyanta012/faster-whisper/archive/refs/heads/master.tar.gz\n",
            "  Downloading https://github.com/nyanta012/faster-whisper/archive/refs/heads/master.tar.gz\n",
            "\u001b[2K     \u001b[32m-\u001b[0m \u001b[32m13.5 kB\u001b[0m \u001b[31m135.6 kB/s\u001b[0m \u001b[33m0:00:00\u001b[0m\n",
            "\u001b[?25h  Preparing metadata (setup.py) ... \u001b[?25l\u001b[?25hdone\n",
            "Requirement already satisfied: av==10.* in /usr/local/lib/python3.10/dist-packages (from faster-whisper@ https://github.com/nyanta012/faster-whisper/archive/refs/heads/master.tar.gz) (10.0.0)\n",
            "Requirement already satisfied: ctranslate2<4,>=3.9 in /usr/local/lib/python3.10/dist-packages (from faster-whisper@ https://github.com/nyanta012/faster-whisper/archive/refs/heads/master.tar.gz) (3.15.1)\n",
            "Requirement already satisfied: tokenizers==0.13.* in /usr/local/lib/python3.10/dist-packages (from faster-whisper@ https://github.com/nyanta012/faster-whisper/archive/refs/heads/master.tar.gz) (0.13.3)\n",
            "Requirement already satisfied: numpy in /usr/local/lib/python3.10/dist-packages (from ctranslate2<4,>=3.9->faster-whisper@ https://github.com/nyanta012/faster-whisper/archive/refs/heads/master.tar.gz) (1.22.4)\n",
            "Requirement already satisfied: pyyaml<7,>=5.3 in /usr/local/lib/python3.10/dist-packages (from ctranslate2<4,>=3.9->faster-whisper@ https://github.com/nyanta012/faster-whisper/archive/refs/heads/master.tar.gz) (6.0)\n",
            "Building wheels for collected packages: faster-whisper\n",
            "  Building wheel for faster-whisper (setup.py) ... \u001b[?25l\u001b[?25hdone\n",
            "  Created wheel for faster-whisper: filename=faster_whisper-0.1.0-py3-none-any.whl size=13970 sha256=cacf16eb58766fd85539e2879cb1c953b61e4f15868a9e9466dff1b1b2e0ab95\n",
            "  Stored in directory: /tmp/pip-ephem-wheel-cache-b09cq6nn/wheels/c8/2c/e9/8959df87a488ee673470cf5721ec7e37690fd032d8065e9610\n",
            "Successfully built faster-whisper\n",
            "Installing collected packages: faster-whisper\n",
            "  Attempting uninstall: faster-whisper\n",
            "    Found existing installation: faster-whisper 0.6.0\n",
            "    Uninstalling faster-whisper-0.6.0:\n",
            "      Successfully uninstalled faster-whisper-0.6.0\n",
            "Successfully installed faster-whisper-0.1.0\n"
          ]
        },
        {
          "output_type": "display_data",
          "data": {
            "application/vnd.colab-display-data+json": {
              "pip_warning": {
                "packages": [
                  "faster_whisper"
                ]
              }
            }
          },
          "metadata": {}
        },
        {
          "output_type": "stream",
          "name": "stdout",
          "text": [
            "Looking in indexes: https://pypi.org/simple, https://us-python.pkg.dev/colab-wheels/public/simple/\n",
            "Requirement already satisfied: transformers==4.27.2 in /usr/local/lib/python3.10/dist-packages (4.27.2)\n",
            "Requirement already satisfied: filelock in /usr/local/lib/python3.10/dist-packages (from transformers==4.27.2) (3.12.0)\n",
            "Requirement already satisfied: huggingface-hub<1.0,>=0.11.0 in /usr/local/lib/python3.10/dist-packages (from transformers==4.27.2) (0.15.1)\n",
            "Requirement already satisfied: numpy>=1.17 in /usr/local/lib/python3.10/dist-packages (from transformers==4.27.2) (1.22.4)\n",
            "Requirement already satisfied: packaging>=20.0 in /usr/local/lib/python3.10/dist-packages (from transformers==4.27.2) (23.1)\n",
            "Requirement already satisfied: pyyaml>=5.1 in /usr/local/lib/python3.10/dist-packages (from transformers==4.27.2) (6.0)\n",
            "Requirement already satisfied: regex!=2019.12.17 in /usr/local/lib/python3.10/dist-packages (from transformers==4.27.2) (2022.10.31)\n",
            "Requirement already satisfied: requests in /usr/local/lib/python3.10/dist-packages (from transformers==4.27.2) (2.27.1)\n",
            "Requirement already satisfied: tokenizers!=0.11.3,<0.14,>=0.11.1 in /usr/local/lib/python3.10/dist-packages (from transformers==4.27.2) (0.13.3)\n",
            "Requirement already satisfied: tqdm>=4.27 in /usr/local/lib/python3.10/dist-packages (from transformers==4.27.2) (4.65.0)\n",
            "Requirement already satisfied: fsspec in /usr/local/lib/python3.10/dist-packages (from huggingface-hub<1.0,>=0.11.0->transformers==4.27.2) (2023.4.0)\n",
            "Requirement already satisfied: typing-extensions>=3.7.4.3 in /usr/local/lib/python3.10/dist-packages (from huggingface-hub<1.0,>=0.11.0->transformers==4.27.2) (4.5.0)\n",
            "Requirement already satisfied: urllib3<1.27,>=1.21.1 in /usr/local/lib/python3.10/dist-packages (from requests->transformers==4.27.2) (1.26.15)\n",
            "Requirement already satisfied: certifi>=2017.4.17 in /usr/local/lib/python3.10/dist-packages (from requests->transformers==4.27.2) (2022.12.7)\n",
            "Requirement already satisfied: charset-normalizer~=2.0.0 in /usr/local/lib/python3.10/dist-packages (from requests->transformers==4.27.2) (2.0.12)\n",
            "Requirement already satisfied: idna<4,>=2.5 in /usr/local/lib/python3.10/dist-packages (from requests->transformers==4.27.2) (3.4)\n"
          ]
        }
      ],
      "source": [
        "!pip install git+https://github.com/kojihashimoto-kobe/faster-whisper.git\n",
        "!pip install transformers==4.27.2"
      ]
    },
    {
      "cell_type": "code",
      "source": [
        "!pip install gradio==3.4.0"
      ],
      "metadata": {
        "colab": {
          "base_uri": "https://localhost:8080/"
        },
        "id": "7jc7d-QgP4ex",
        "outputId": "7c351afd-a88e-4ee9-940c-1e27e7cb2009"
      },
      "execution_count": 8,
      "outputs": [
        {
          "output_type": "stream",
          "name": "stdout",
          "text": [
            "Looking in indexes: https://pypi.org/simple, https://us-python.pkg.dev/colab-wheels/public/simple/\n",
            "Requirement already satisfied: gradio==3.4.0 in /usr/local/lib/python3.10/dist-packages (3.4.0)\n",
            "Requirement already satisfied: aiohttp in /usr/local/lib/python3.10/dist-packages (from gradio==3.4.0) (3.8.4)\n",
            "Requirement already satisfied: fastapi in /usr/local/lib/python3.10/dist-packages (from gradio==3.4.0) (0.97.0)\n",
            "Requirement already satisfied: ffmpy in /usr/local/lib/python3.10/dist-packages (from gradio==3.4.0) (0.3.0)\n",
            "Requirement already satisfied: fsspec in /usr/local/lib/python3.10/dist-packages (from gradio==3.4.0) (2023.4.0)\n",
            "Requirement already satisfied: h11<0.13,>=0.11 in /usr/local/lib/python3.10/dist-packages (from gradio==3.4.0) (0.12.0)\n",
            "Requirement already satisfied: httpx in /usr/local/lib/python3.10/dist-packages (from gradio==3.4.0) (0.24.1)\n",
            "Requirement already satisfied: jinja2 in /usr/local/lib/python3.10/dist-packages (from gradio==3.4.0) (3.1.2)\n",
            "Requirement already satisfied: markdown-it-py[linkify,plugins] in /usr/local/lib/python3.10/dist-packages (from gradio==3.4.0) (2.2.0)\n",
            "Requirement already satisfied: matplotlib in /usr/local/lib/python3.10/dist-packages (from gradio==3.4.0) (3.7.1)\n",
            "Requirement already satisfied: numpy in /usr/local/lib/python3.10/dist-packages (from gradio==3.4.0) (1.22.4)\n",
            "Requirement already satisfied: orjson in /usr/local/lib/python3.10/dist-packages (from gradio==3.4.0) (3.9.1)\n",
            "Requirement already satisfied: pandas in /usr/local/lib/python3.10/dist-packages (from gradio==3.4.0) (1.5.3)\n",
            "Requirement already satisfied: paramiko in /usr/local/lib/python3.10/dist-packages (from gradio==3.4.0) (3.2.0)\n",
            "Requirement already satisfied: pillow in /usr/local/lib/python3.10/dist-packages (from gradio==3.4.0) (8.4.0)\n",
            "Requirement already satisfied: pycryptodome in /usr/local/lib/python3.10/dist-packages (from gradio==3.4.0) (3.18.0)\n",
            "Requirement already satisfied: pydantic in /usr/local/lib/python3.10/dist-packages (from gradio==3.4.0) (1.10.7)\n",
            "Requirement already satisfied: pydub in /usr/local/lib/python3.10/dist-packages (from gradio==3.4.0) (0.25.1)\n",
            "Requirement already satisfied: python-multipart in /usr/local/lib/python3.10/dist-packages (from gradio==3.4.0) (0.0.6)\n",
            "Requirement already satisfied: pyyaml in /usr/local/lib/python3.10/dist-packages (from gradio==3.4.0) (6.0)\n",
            "Requirement already satisfied: requests in /usr/local/lib/python3.10/dist-packages (from gradio==3.4.0) (2.27.1)\n",
            "Requirement already satisfied: uvicorn in /usr/local/lib/python3.10/dist-packages (from gradio==3.4.0) (0.22.0)\n",
            "Requirement already satisfied: websockets in /usr/local/lib/python3.10/dist-packages (from gradio==3.4.0) (11.0.3)\n",
            "Requirement already satisfied: attrs>=17.3.0 in /usr/local/lib/python3.10/dist-packages (from aiohttp->gradio==3.4.0) (23.1.0)\n",
            "Requirement already satisfied: charset-normalizer<4.0,>=2.0 in /usr/local/lib/python3.10/dist-packages (from aiohttp->gradio==3.4.0) (2.0.12)\n",
            "Requirement already satisfied: multidict<7.0,>=4.5 in /usr/local/lib/python3.10/dist-packages (from aiohttp->gradio==3.4.0) (6.0.4)\n",
            "Requirement already satisfied: async-timeout<5.0,>=4.0.0a3 in /usr/local/lib/python3.10/dist-packages (from aiohttp->gradio==3.4.0) (4.0.2)\n",
            "Requirement already satisfied: yarl<2.0,>=1.0 in /usr/local/lib/python3.10/dist-packages (from aiohttp->gradio==3.4.0) (1.9.2)\n",
            "Requirement already satisfied: frozenlist>=1.1.1 in /usr/local/lib/python3.10/dist-packages (from aiohttp->gradio==3.4.0) (1.3.3)\n",
            "Requirement already satisfied: aiosignal>=1.1.2 in /usr/local/lib/python3.10/dist-packages (from aiohttp->gradio==3.4.0) (1.3.1)\n",
            "Requirement already satisfied: starlette<0.28.0,>=0.27.0 in /usr/local/lib/python3.10/dist-packages (from fastapi->gradio==3.4.0) (0.27.0)\n",
            "Requirement already satisfied: typing-extensions>=4.2.0 in /usr/local/lib/python3.10/dist-packages (from pydantic->gradio==3.4.0) (4.5.0)\n",
            "Requirement already satisfied: certifi in /usr/local/lib/python3.10/dist-packages (from httpx->gradio==3.4.0) (2022.12.7)\n",
            "Requirement already satisfied: httpcore<0.18.0,>=0.15.0 in /usr/local/lib/python3.10/dist-packages (from httpx->gradio==3.4.0) (0.15.0)\n",
            "Requirement already satisfied: idna in /usr/local/lib/python3.10/dist-packages (from httpx->gradio==3.4.0) (3.4)\n",
            "Requirement already satisfied: sniffio in /usr/local/lib/python3.10/dist-packages (from httpx->gradio==3.4.0) (1.3.0)\n",
            "Requirement already satisfied: MarkupSafe>=2.0 in /usr/local/lib/python3.10/dist-packages (from jinja2->gradio==3.4.0) (2.1.2)\n",
            "Requirement already satisfied: mdurl~=0.1 in /usr/local/lib/python3.10/dist-packages (from markdown-it-py[linkify,plugins]->gradio==3.4.0) (0.1.2)\n",
            "Requirement already satisfied: mdit-py-plugins in /usr/local/lib/python3.10/dist-packages (from markdown-it-py[linkify,plugins]->gradio==3.4.0) (0.4.0)\n",
            "Requirement already satisfied: linkify-it-py<3,>=1 in /usr/local/lib/python3.10/dist-packages (from markdown-it-py[linkify,plugins]->gradio==3.4.0) (2.0.2)\n",
            "Requirement already satisfied: contourpy>=1.0.1 in /usr/local/lib/python3.10/dist-packages (from matplotlib->gradio==3.4.0) (1.0.7)\n",
            "Requirement already satisfied: cycler>=0.10 in /usr/local/lib/python3.10/dist-packages (from matplotlib->gradio==3.4.0) (0.11.0)\n",
            "Requirement already satisfied: fonttools>=4.22.0 in /usr/local/lib/python3.10/dist-packages (from matplotlib->gradio==3.4.0) (4.39.3)\n",
            "Requirement already satisfied: kiwisolver>=1.0.1 in /usr/local/lib/python3.10/dist-packages (from matplotlib->gradio==3.4.0) (1.4.4)\n",
            "Requirement already satisfied: packaging>=20.0 in /usr/local/lib/python3.10/dist-packages (from matplotlib->gradio==3.4.0) (23.1)\n",
            "Requirement already satisfied: pyparsing>=2.3.1 in /usr/local/lib/python3.10/dist-packages (from matplotlib->gradio==3.4.0) (3.0.9)\n",
            "Requirement already satisfied: python-dateutil>=2.7 in /usr/local/lib/python3.10/dist-packages (from matplotlib->gradio==3.4.0) (2.8.2)\n",
            "Requirement already satisfied: pytz>=2020.1 in /usr/local/lib/python3.10/dist-packages (from pandas->gradio==3.4.0) (2022.7.1)\n",
            "Requirement already satisfied: bcrypt>=3.2 in /usr/local/lib/python3.10/dist-packages (from paramiko->gradio==3.4.0) (4.0.1)\n",
            "Requirement already satisfied: cryptography>=3.3 in /usr/local/lib/python3.10/dist-packages (from paramiko->gradio==3.4.0) (40.0.2)\n",
            "Requirement already satisfied: pynacl>=1.5 in /usr/local/lib/python3.10/dist-packages (from paramiko->gradio==3.4.0) (1.5.0)\n",
            "Requirement already satisfied: urllib3<1.27,>=1.21.1 in /usr/local/lib/python3.10/dist-packages (from requests->gradio==3.4.0) (1.26.15)\n",
            "Requirement already satisfied: click>=7.0 in /usr/local/lib/python3.10/dist-packages (from uvicorn->gradio==3.4.0) (8.1.3)\n",
            "Requirement already satisfied: cffi>=1.12 in /usr/local/lib/python3.10/dist-packages (from cryptography>=3.3->paramiko->gradio==3.4.0) (1.15.1)\n",
            "Requirement already satisfied: anyio==3.* in /usr/local/lib/python3.10/dist-packages (from httpcore<0.18.0,>=0.15.0->httpx->gradio==3.4.0) (3.6.2)\n",
            "Requirement already satisfied: uc-micro-py in /usr/local/lib/python3.10/dist-packages (from linkify-it-py<3,>=1->markdown-it-py[linkify,plugins]->gradio==3.4.0) (1.0.2)\n",
            "Requirement already satisfied: six>=1.5 in /usr/local/lib/python3.10/dist-packages (from python-dateutil>=2.7->matplotlib->gradio==3.4.0) (1.16.0)\n",
            "Requirement already satisfied: pycparser in /usr/local/lib/python3.10/dist-packages (from cffi>=1.12->cryptography>=3.3->paramiko->gradio==3.4.0) (2.21)\n"
          ]
        }
      ]
    },
    {
      "cell_type": "code",
      "source": [
        "import gradio as gr\n",
        "# whisper large-v2をhugging faceから取得して、ctranslate2でC++に変換&パラメータなどの量子化する\n",
        "from faster_whisper import WhisperModel\n",
        "!ct2-transformers-converter --model openai/whisper-large-v2 --output_dir whisper-large-v2-ct2 \\\n",
        "    --copy_files tokenizer.json --quantization float16\n",
        "\n",
        "model_path = \"whisper-large-v2-ct2/\""
      ],
      "metadata": {
        "colab": {
          "base_uri": "https://localhost:8080/"
        },
        "id": "WKNLx5VTQF4F",
        "outputId": "bd782edf-dbc6-422e-844f-9b4dd802d37f"
      },
      "execution_count": 9,
      "outputs": [
        {
          "output_type": "stream",
          "name": "stdout",
          "text": [
            "Traceback (most recent call last):\n",
            "  File \"/usr/local/bin/ct2-transformers-converter\", line 8, in <module>\n",
            "    sys.exit(main())\n",
            "  File \"/usr/local/lib/python3.10/dist-packages/ctranslate2/converters/transformers.py\", line 1453, in main\n",
            "    converter.convert_from_args(args)\n",
            "  File \"/usr/local/lib/python3.10/dist-packages/ctranslate2/converters/converter.py\", line 50, in convert_from_args\n",
            "    return self.convert(\n",
            "  File \"/usr/local/lib/python3.10/dist-packages/ctranslate2/converters/converter.py\", line 84, in convert\n",
            "    raise RuntimeError(\n",
            "RuntimeError: output directory whisper-large-v2-ct2 already exists, use --force to override\n"
          ]
        }
      ]
    },
    {
      "cell_type": "code",
      "source": [
        "# Run on GPU with FP16\n",
        "model = WhisperModel(model_path, device=\"cuda\", compute_type=\"float16\")"
      ],
      "metadata": {
        "id": "PAQBs9SmQSF8"
      },
      "execution_count": 10,
      "outputs": []
    },
    {
      "cell_type": "code",
      "source": [
        "def create_textfile(video_name):\n",
        "    results, _  = model.transcribe(video_name, language=\"ja\") #英語ならen 日本語ならja\n",
        "    with open(\"transcribe.txt\", mode=\"w\") as f:\n",
        "        for index, _dict in enumerate(results):\n",
        "            cumsum_time = 0\n",
        "            start_time = cumsum_time + _dict.start\n",
        "            end_time = cumsum_time + _dict.end\n",
        "            text = _dict.text\n",
        "            s_h, e_h = int(start_time//(60 * 60)), int(end_time//(60 * 60))\n",
        "            s_m, e_m = int(start_time//(60)), int(end_time//(60))\n",
        "            s_s, e_s = int(start_time % 60), int(end_time % 60)\n",
        "            f.write(f'[{s_h:02}:{s_m:02}:{s_s:02} ===> {e_h:02}:{e_m:02}:{e_s:02}] {text}\\n')\n",
        "            print(f'[{s_h:02}:{s_m:02}:{s_s:02} ===> {e_h:02}:{e_m:02}:{e_s:02}] {text}')\n",
        "    return \"transcribe.txt\"\n",
        "\n",
        "css = \"\"\"\n",
        "        .gradio-container {\n",
        "            font-family: 'IBM Plex Sans', sans-serif;\n",
        "        }\n",
        "        .container {\n",
        "            max-width: 730px;\n",
        "            margin: auto;\n",
        "            padding-top: 1.5rem;\n",
        "        }\n",
        "        #gallery {\n",
        "            min-height: 22rem;\n",
        "            margin-bottom: 15px;\n",
        "            margin-left: auto;\n",
        "            margin-right: auto;\n",
        "            border-bottom-right-radius: .5rem !important;\n",
        "            border-bottom-left-radius: .5rem !important;\n",
        "        }\n",
        "        #gallery>div>.h-full {\n",
        "            min-height: 20rem;\n",
        "        }\n",
        "\n",
        "\"\"\"\n",
        "\n",
        "block = gr.Blocks(css=css)\n",
        "\n",
        "with block:   \n",
        "    gr.Markdown(\"whisper Demo\")\n",
        "    with gr.Group():\n",
        "        with gr.Box():\n",
        "            with gr.Row(mobile_collapse=False, equal_height=True):\n",
        "                text_button = gr.Button(\"映像or音声ファイルをアップしたらここをクリックして文字起こし！\").style(\n",
        "                        margin=False,\n",
        "                        rounded=(True, True, True, True),\n",
        "                    )\n",
        "        video = gr.Audio(source=\"upload\", type=\"filepath\", interactive=True)       \n",
        "        transcribe = gr.File(label=\"Transcripts text file\")\n",
        "        text_button.click(create_textfile, inputs=[video], outputs=[transcribe])\n",
        "\n",
        "block.launch(debug=True)"
      ],
      "metadata": {
        "colab": {
          "base_uri": "https://localhost:8080/",
          "height": 1000
        },
        "id": "xm7wZVEmQ3HL",
        "outputId": "4fe2767a-08b3-4d97-9524-ce3b58162940"
      },
      "execution_count": 20,
      "outputs": [
        {
          "output_type": "stream",
          "name": "stdout",
          "text": [
            "Colab notebook detected. This cell will run indefinitely so that you can see errors and logs. To turn off, set debug=False in launch().\n",
            "Running on public URL: https://465054432a35d038.gradio.app\n",
            "\n",
            "This share link expires in 72 hours. For free permanent hosting, check out Spaces: https://www.huggingface.co/spaces\n"
          ]
        },
        {
          "output_type": "display_data",
          "data": {
            "text/plain": [
              "<IPython.core.display.HTML object>"
            ],
            "text/html": [
              "<div><iframe src=\"https://465054432a35d038.gradio.app\" width=\"900\" height=\"500\" allow=\"autoplay; camera; microphone; clipboard-read; clipboard-write;\" frameborder=\"0\" allowfullscreen></iframe></div>"
            ]
          },
          "metadata": {}
        },
        {
          "output_type": "stream",
          "name": "stdout",
          "text": [
            "[00:00:00 ===> 00:00:03]  A major dam in Ukraine has been badly damaged.\n",
            "[00:00:03 ===> 00:00:05]  President Zelensky shared this video,\n",
            "[00:00:05 ===> 00:00:08]  and this dam is part of a hydroelectric power plant\n",
            "[00:00:08 ===> 00:00:09]  in the town of Novokokovka.\n",
            "[00:00:09 ===> 00:00:13]  It's in southern Ukraine, in territory controlled by Russia.\n",
            "[00:00:13 ===> 00:00:15]  And the dam sits on the Dnipro River,\n",
            "[00:00:15 ===> 00:00:17]  which flows towards the Black Sea.\n",
            "[00:00:17 ===> 00:00:20]  And this is the scale of what happened.\n",
            "[00:00:20 ===> 00:00:22]  Compare this satellite image from Sunday\n",
            "[00:00:22 ===> 00:00:24]  with this image from Tuesday morning.\n",
            "[00:00:24 ===> 00:00:27]  The dam was overwhelmed with water,\n",
            "[00:00:27 ===> 00:00:29]  and floods immediately followed.\n",
            "[00:00:29 ===> 00:00:32]  This is a square in the centre of Novokokovka.\n",
            "[00:00:32 ===> 00:00:35]  Swans have been swimming past the Palace of Culture.\n",
            "[00:00:35 ===> 00:00:37]  The BBC has also verified this video\n",
            "[00:00:37 ===> 00:00:40]  of a house floating down the river, not far from the dam.\n",
            "[00:00:40 ===> 00:00:43]  And then, around 50 miles downstream,\n",
            "[00:00:43 ===> 00:00:44]  is the city of Kherson.\n",
            "[00:00:44 ===> 00:00:48]  People in low-lying areas there are being told to evacuate.\n",
            "[00:00:48 ===> 00:00:51]  And this beaver was filmed on the street.\n",
            "[00:00:51 ===> 00:00:53]  President Zelensky says 80 towns and villages\n",
            "[00:00:53 ===> 00:00:54]  could be affected.\n",
            "[00:00:54 ===> 00:00:56]  There's also concern about the nuclear power station\n",
            "[00:00:57 ===> 00:01:00]  about 100 miles upstream.\n",
            "[00:01:00 ===> 00:01:04]  It's under Russian control and uses water from the dam.\n",
            "[00:01:04 ===> 00:01:07]  Now, the UN's nuclear watchdog said on Tuesday morning\n",
            "[00:01:07 ===> 00:01:09]  there was no immediate risk to the safety of the plant.\n",
            "[00:01:09 ===> 00:01:12]  In terms of why the dam was damaged,\n",
            "[00:01:12 ===> 00:01:14]  well, Ukraine says Russia blew it up.\n",
            "[00:01:14 ===> 00:01:17]  Russia says Ukrainian shells had hit the dam's power plant.\n",
            "[00:01:17 ===> 00:01:20]  And while the two sides trade accusations,\n",
            "[00:01:20 ===> 00:01:21]  questions remain.\n",
            "[00:01:21 ===> 00:01:24]  This image shows a road on the dam in late May.\n",
            "[00:01:24 ===> 00:01:27]  Then this image on Monday shows a section\n",
            "[00:01:27 ===> 00:01:29]  of that road had collapsed.\n",
            "[00:01:29 ===> 00:01:33]  We also know other damage has been recorded in recent months.\n",
            "[00:01:33 ===> 00:01:35]  And so while the cause of the damage to the dam\n",
            "[00:01:35 ===> 00:01:38]  isn't certain, the flooding is.\n",
            "[00:01:38 ===> 00:01:40]  And the lives of many thousands of Ukrainians\n",
            "[00:01:40 ===> 00:01:42]  are being affected.\n",
            "Keyboard interruption in main thread... closing server.\n"
          ]
        },
        {
          "output_type": "execute_result",
          "data": {
            "text/plain": [
              "(<gradio.routes.App at 0x7fee3c169000>,\n",
              " 'http://127.0.0.1:7860/',\n",
              " 'https://465054432a35d038.gradio.app')"
            ]
          },
          "metadata": {},
          "execution_count": 20
        }
      ]
    },
    {
      "cell_type": "code",
      "source": [],
      "metadata": {
        "id": "68Bz4qwThmou"
      },
      "execution_count": null,
      "outputs": []
    }
  ]
}